{
 "cells": [
  {
   "cell_type": "markdown",
   "metadata": {},
   "source": [
    "# ECS308/658: Assignment 3                    Name: Deep Pooja Roll No.:17074"
   ]
  },
  {
   "cell_type": "code",
   "execution_count": 97,
   "metadata": {},
   "outputs": [
    {
     "name": "stdout",
     "output_type": "stream",
     "text": [
      "(3000, 26)\n"
     ]
    },
    {
     "data": {
      "text/html": [
       "<div>\n",
       "<style scoped>\n",
       "    .dataframe tbody tr th:only-of-type {\n",
       "        vertical-align: middle;\n",
       "    }\n",
       "\n",
       "    .dataframe tbody tr th {\n",
       "        vertical-align: top;\n",
       "    }\n",
       "\n",
       "    .dataframe thead th {\n",
       "        text-align: right;\n",
       "    }\n",
       "</style>\n",
       "<table border=\"1\" class=\"dataframe\">\n",
       "  <thead>\n",
       "    <tr style=\"text-align: right;\">\n",
       "      <th></th>\n",
       "      <th>f1</th>\n",
       "      <th>f2</th>\n",
       "      <th>f3</th>\n",
       "      <th>f4</th>\n",
       "      <th>f5</th>\n",
       "      <th>f6</th>\n",
       "      <th>f7</th>\n",
       "      <th>f8</th>\n",
       "      <th>f9</th>\n",
       "      <th>f10</th>\n",
       "      <th>...</th>\n",
       "      <th>f17</th>\n",
       "      <th>f18</th>\n",
       "      <th>f19</th>\n",
       "      <th>f20</th>\n",
       "      <th>f21</th>\n",
       "      <th>f22</th>\n",
       "      <th>f23</th>\n",
       "      <th>f24</th>\n",
       "      <th>f25</th>\n",
       "      <th>label</th>\n",
       "    </tr>\n",
       "  </thead>\n",
       "  <tbody>\n",
       "    <tr>\n",
       "      <th>0</th>\n",
       "      <td>1.377697</td>\n",
       "      <td>2.133902</td>\n",
       "      <td>-6.100587</td>\n",
       "      <td>2.978864</td>\n",
       "      <td>-6.100740</td>\n",
       "      <td>0.743613</td>\n",
       "      <td>1.394455</td>\n",
       "      <td>-5.366636</td>\n",
       "      <td>3.309212</td>\n",
       "      <td>3.328204</td>\n",
       "      <td>...</td>\n",
       "      <td>2.035845</td>\n",
       "      <td>0.169431</td>\n",
       "      <td>2.414173</td>\n",
       "      <td>-1.178462</td>\n",
       "      <td>0.185770</td>\n",
       "      <td>-1.681572</td>\n",
       "      <td>-0.042570</td>\n",
       "      <td>-0.148537</td>\n",
       "      <td>2.090809</td>\n",
       "      <td>4</td>\n",
       "    </tr>\n",
       "    <tr>\n",
       "      <th>1</th>\n",
       "      <td>-7.696520</td>\n",
       "      <td>-3.139173</td>\n",
       "      <td>4.693645</td>\n",
       "      <td>-0.180141</td>\n",
       "      <td>5.616578</td>\n",
       "      <td>2.974020</td>\n",
       "      <td>-0.014471</td>\n",
       "      <td>-2.416682</td>\n",
       "      <td>-1.262542</td>\n",
       "      <td>-4.765302</td>\n",
       "      <td>...</td>\n",
       "      <td>1.085275</td>\n",
       "      <td>0.905219</td>\n",
       "      <td>-0.352516</td>\n",
       "      <td>-0.197210</td>\n",
       "      <td>-1.806493</td>\n",
       "      <td>-1.166129</td>\n",
       "      <td>-0.116299</td>\n",
       "      <td>-1.234283</td>\n",
       "      <td>0.181447</td>\n",
       "      <td>1</td>\n",
       "    </tr>\n",
       "    <tr>\n",
       "      <th>2</th>\n",
       "      <td>3.797538</td>\n",
       "      <td>-5.425128</td>\n",
       "      <td>-1.918365</td>\n",
       "      <td>7.667149</td>\n",
       "      <td>-3.531960</td>\n",
       "      <td>0.282102</td>\n",
       "      <td>-3.135945</td>\n",
       "      <td>1.425891</td>\n",
       "      <td>-0.926668</td>\n",
       "      <td>-2.199202</td>\n",
       "      <td>...</td>\n",
       "      <td>3.685538</td>\n",
       "      <td>2.000232</td>\n",
       "      <td>1.824842</td>\n",
       "      <td>-3.310581</td>\n",
       "      <td>-0.407719</td>\n",
       "      <td>3.053130</td>\n",
       "      <td>0.465926</td>\n",
       "      <td>1.431912</td>\n",
       "      <td>1.253805</td>\n",
       "      <td>6</td>\n",
       "    </tr>\n",
       "    <tr>\n",
       "      <th>3</th>\n",
       "      <td>-4.139267</td>\n",
       "      <td>4.356278</td>\n",
       "      <td>-6.324510</td>\n",
       "      <td>-2.087022</td>\n",
       "      <td>2.140759</td>\n",
       "      <td>4.958689</td>\n",
       "      <td>-3.466461</td>\n",
       "      <td>7.368614</td>\n",
       "      <td>4.198713</td>\n",
       "      <td>3.060822</td>\n",
       "      <td>...</td>\n",
       "      <td>1.390797</td>\n",
       "      <td>-2.537387</td>\n",
       "      <td>-2.268042</td>\n",
       "      <td>-4.567086</td>\n",
       "      <td>0.971949</td>\n",
       "      <td>1.942724</td>\n",
       "      <td>3.695771</td>\n",
       "      <td>-2.031839</td>\n",
       "      <td>-2.383351</td>\n",
       "      <td>7</td>\n",
       "    </tr>\n",
       "    <tr>\n",
       "      <th>4</th>\n",
       "      <td>-3.090371</td>\n",
       "      <td>5.230297</td>\n",
       "      <td>-2.735201</td>\n",
       "      <td>0.121464</td>\n",
       "      <td>-2.969570</td>\n",
       "      <td>1.181388</td>\n",
       "      <td>1.393529</td>\n",
       "      <td>-7.847282</td>\n",
       "      <td>1.477503</td>\n",
       "      <td>-0.201092</td>\n",
       "      <td>...</td>\n",
       "      <td>0.786808</td>\n",
       "      <td>1.058027</td>\n",
       "      <td>-0.316244</td>\n",
       "      <td>-1.190102</td>\n",
       "      <td>-1.342127</td>\n",
       "      <td>-0.452326</td>\n",
       "      <td>-1.193489</td>\n",
       "      <td>1.051545</td>\n",
       "      <td>2.718591</td>\n",
       "      <td>4</td>\n",
       "    </tr>\n",
       "  </tbody>\n",
       "</table>\n",
       "<p>5 rows × 26 columns</p>\n",
       "</div>"
      ],
      "text/plain": [
       "         f1        f2        f3        f4        f5        f6        f7  \\\n",
       "0  1.377697  2.133902 -6.100587  2.978864 -6.100740  0.743613  1.394455   \n",
       "1 -7.696520 -3.139173  4.693645 -0.180141  5.616578  2.974020 -0.014471   \n",
       "2  3.797538 -5.425128 -1.918365  7.667149 -3.531960  0.282102 -3.135945   \n",
       "3 -4.139267  4.356278 -6.324510 -2.087022  2.140759  4.958689 -3.466461   \n",
       "4 -3.090371  5.230297 -2.735201  0.121464 -2.969570  1.181388  1.393529   \n",
       "\n",
       "         f8        f9       f10  ...       f17       f18       f19       f20  \\\n",
       "0 -5.366636  3.309212  3.328204  ...  2.035845  0.169431  2.414173 -1.178462   \n",
       "1 -2.416682 -1.262542 -4.765302  ...  1.085275  0.905219 -0.352516 -0.197210   \n",
       "2  1.425891 -0.926668 -2.199202  ...  3.685538  2.000232  1.824842 -3.310581   \n",
       "3  7.368614  4.198713  3.060822  ...  1.390797 -2.537387 -2.268042 -4.567086   \n",
       "4 -7.847282  1.477503 -0.201092  ...  0.786808  1.058027 -0.316244 -1.190102   \n",
       "\n",
       "        f21       f22       f23       f24       f25  label  \n",
       "0  0.185770 -1.681572 -0.042570 -0.148537  2.090809      4  \n",
       "1 -1.806493 -1.166129 -0.116299 -1.234283  0.181447      1  \n",
       "2 -0.407719  3.053130  0.465926  1.431912  1.253805      6  \n",
       "3  0.971949  1.942724  3.695771 -2.031839 -2.383351      7  \n",
       "4 -1.342127 -0.452326 -1.193489  1.051545  2.718591      4  \n",
       "\n",
       "[5 rows x 26 columns]"
      ]
     },
     "execution_count": 97,
     "metadata": {},
     "output_type": "execute_result"
    }
   ],
   "source": [
    "# Importing the dependencies\n",
    "from sklearn import svm\n",
    "import pandas as pd\n",
    "import numpy as np\n",
    "from matplotlib import pyplot as plt\n",
    "from sklearn.model_selection import train_test_split\n",
    "from sklearn.preprocessing import StandardScaler\n",
    "from sklearn.metrics import f1_score\n",
    "from sklearn.metrics import classification_report, confusion_matrix\n",
    "import itertools\n",
    "#loading the dataset\n",
    "d = pd.read_csv(r'C:\\Users\\hp\\Downloads\\HAPT Data Set\\15076.csv')\n",
    "#visualizing the datasets \n",
    "print(d.shape)\n",
    "#separating the datasets into features and labels\n",
    "X = d.iloc[:,0:10] #taking first 10 features only\n",
    "X_prime=d.iloc[:,0:25]  # taking all the features\n",
    "y = d.iloc[:,25]   #labels\n",
    "#scaling the data\n",
    "scaler = StandardScaler()\n",
    "X = scaler.fit_transform(X)\n",
    "X_prime = scaler.fit_transform(X_prime)\n",
    "#for binary classification choosing the classes to be [0,1] out of 10 classes 0 to 9\n",
    "X_1 = X[y<2]\n",
    "y_1 = y[y<2]\n",
    "X_prime1 = X_prime[y<2]\n",
    "#for binary classification choosing the classes to be [8,9] out of 10 classes 0 to 9\n",
    "X_2 = X[y>7]\n",
    "y_2 = y[y>7]\n",
    "X_prime2 = X_prime[y>7]\n",
    "#print(y_2)\n",
    "label1 = ['0','1']\n",
    "label2 = ['8','9']\n",
    "#splitting the dataset into train_set and test_set\n",
    "X_train, X_test, y_train, y_test = train_test_split(X_prime2,y_2, test_size=0.2)\n",
    "d.head()"
   ]
  },
  {
   "cell_type": "markdown",
   "metadata": {},
   "source": [
    "This function below  gives ouput a parametric plot with C as parameter keeping kernel function fixed "
   ]
  },
  {
   "cell_type": "code",
   "execution_count": 198,
   "metadata": {},
   "outputs": [
    {
     "data": {
      "image/png": "[encoded data removed]",
      "text/plain": [
       "<Figure size 432x288 with 1 Axes>"
      ]
     },
     "metadata": {
      "needs_background": "light"
     },
     "output_type": "display_data"
    }
   ],
   "source": [
    "from sklearn.model_selection import cross_val_score\n",
    "from sklearn import svm\n",
    "\n",
    "svc = svm.SVC(kernel ='linear')\n",
    "C_s = np.logspace(-10, 1, 10)\n",
    "\n",
    "scores = list()\n",
    "scores_std = list()\n",
    "for C in C_s:\n",
    "    svc.C = C\n",
    "    this_scores = cross_val_score(svc, f, t, n_jobs=1)\n",
    "    scores.append(np.mean(this_scores))\n",
    "    scores_std.append(np.std(this_scores))\n",
    "\n",
    "# Do the plotting\n",
    "\n",
    "plt.figure()\n",
    "plt.semilogx(C_s, scores)\n",
    "plt.semilogx(C_s, np.array(scores) + np.array(scores_std), 'b--')\n",
    "plt.semilogx(C_s, np.array(scores) - np.array(scores_std), 'b--')\n",
    "locs, labels = plt.yticks()\n",
    "plt.yticks(locs, list(map(lambda x: \"%g\" % x, locs)))\n",
    "plt.ylabel('Cross-Validation score')\n",
    "plt.xlabel('Parameter C')\n",
    "plt.ylim(0, 1.1)\n",
    "plt.show()"
   ]
  },
  {
   "cell_type": "code",
   "execution_count": 70,
   "metadata": {},
   "outputs": [
    {
     "name": "stdout",
     "output_type": "stream",
     "text": [
      "[[-0.05  0.46 -0.82  0.59 -0.04 -0.07  0.08  0.42  0.13  0.21  0.08 -0.49\n",
      "   0.74 -0.15 -0.45 -0.22 -0.25  0.11  0.23  0.16  0.06  0.   -0.02 -0.41\n",
      "   0.2 ]]\n",
      "[-0.04]\n",
      "0.9745762711864406\n"
     ]
    }
   ],
   "source": [
    "#building linear classifier\n",
    "linear_classifier = svm.SVC(kernel='linear',C=0.1)\n",
    "linear_classifier.fit(X_train,y_train)\n",
    "y_predl =linear_classifier.predict(X_test)\n",
    "print(linear_classifier.coef_)\n",
    "print(linear_classifier.intercept_)\n",
    "acc = linear_classifier.score(X_test,y_test)\n",
    "print(acc)"
   ]
  },
  {
   "cell_type": "code",
   "execution_count": 145,
   "metadata": {},
   "outputs": [
    {
     "name": "stdout",
     "output_type": "stream",
     "text": [
      "0.9745762711864406\n"
     ]
    }
   ],
   "source": [
    "# building rbf classifier\n",
    "rbf_clf = svm.SVC(kernel='rbf',degree=3,C=20)\n",
    "rbf_clf.fit(X_train,y_train)\n",
    "y_predr =rbf_clf.predict(X_test)\n",
    "acc = rbf_clf.score(X_test,y_test)\n",
    "print(acc)"
   ]
  },
  {
   "cell_type": "code",
   "execution_count": 27,
   "metadata": {},
   "outputs": [
    {
     "data": {
      "text/plain": [
       "0.9830508474576272"
      ]
     },
     "execution_count": 27,
     "metadata": {},
     "output_type": "execute_result"
    }
   ],
   "source": [
    "# calculating f1 Score for rbf classifier\n",
    "f1_score(y_test, y_predr, average='weighted')"
   ]
  },
  {
   "cell_type": "code",
   "execution_count": 28,
   "metadata": {},
   "outputs": [
    {
     "data": {
      "text/plain": [
       "0.9830508474576272"
      ]
     },
     "execution_count": 28,
     "metadata": {},
     "output_type": "execute_result"
    }
   ],
   "source": [
    "# calculating f1 score for linear classifier \n",
    "f1_score(y_test, y_predl, average='weighted')"
   ]
  },
  {
   "cell_type": "code",
   "execution_count": 64,
   "metadata": {},
   "outputs": [
    {
     "name": "stdout",
     "output_type": "stream",
     "text": [
      "Linear Classifier report: \n",
      "               precision    recall  f1-score   support\n",
      "\n",
      "           8       0.98      0.97      0.98        61\n",
      "           9       0.97      0.98      0.97        57\n",
      "\n",
      "    accuracy                           0.97       118\n",
      "   macro avg       0.97      0.97      0.97       118\n",
      "weighted avg       0.97      0.97      0.97       118\n",
      "\n",
      "RBF Classifier report: \n",
      "               precision    recall  f1-score   support\n",
      "\n",
      "           8       0.98      0.97      0.98        61\n",
      "           9       0.97      0.98      0.97        57\n",
      "\n",
      "    accuracy                           0.97       118\n",
      "   macro avg       0.97      0.97      0.97       118\n",
      "weighted avg       0.97      0.97      0.97       118\n",
      "\n"
     ]
    }
   ],
   "source": [
    "#Compulating classification report\n",
    "print (\"Linear Classifier report: \\n\",classification_report(y_test, y_predl))\n",
    "print(\"RBF Classifier report: \\n\",classification_report(y_test, y_predr))"
   ]
  },
  {
   "cell_type": "code",
   "execution_count": 31,
   "metadata": {},
   "outputs": [],
   "source": [
    "# function for plotting confusion matrix\n",
    "\n",
    "def plot_confusion_matrix(cm, classes,\n",
    "                          normalize=False,\n",
    "                          title='Confusion matrix',\n",
    "                          cmap=plt.cm.Reds):\n",
    "    \"\"\"\n",
    "    This function prints and plots the confusion matrix.\n",
    "    Normalization can be applied by setting `normalize=True`.\n",
    "    \"\"\"\n",
    "    if normalize:\n",
    "        cm = cm.astype('float') / cm.sum(axis=1)[:, np.newaxis]\n",
    "        print(\"Normalized confusion matrix\")\n",
    "    else:\n",
    "        print('Confusion matrix, without normalization')\n",
    "\n",
    "    print(cm)\n",
    "\n",
    "    plt.imshow(cm, interpolation='nearest', cmap=cmap)\n",
    "    plt.title(title)\n",
    "    plt.colorbar()\n",
    "    tick_marks = np.arange(len(classes))\n",
    "    plt.xticks(tick_marks, classes, rotation = 90)\n",
    "    plt.yticks(tick_marks, classes)\n",
    "\n",
    "    fmt = '.2f' if normalize else 'd'\n",
    "    thresh = cm.max() / 2.\n",
    "    for i, j in itertools.product(range(cm.shape[0]), range(cm.shape[1])):\n",
    "        plt.text(j, i, format(cm[i, j], fmt),\n",
    "                 horizontalalignment=\"center\",\n",
    "                 color=\"white\" if cm[i, j] > thresh else \"black\")\n",
    "\n",
    "    plt.tight_layout()\n",
    "    plt.ylabel('True label')\n",
    "    plt.xlabel('Predicted label')"
   ]
  },
  {
   "cell_type": "code",
   "execution_count": 71,
   "metadata": {},
   "outputs": [
    {
     "name": "stdout",
     "output_type": "stream",
     "text": [
      "Confusion matrix, without normalization\n",
      "[[60  1]\n",
      " [ 0 57]]\n"
     ]
    },
    {
     "data": {
      "image/png": "[encoded data removed]",
      "text/plain": [
       "<Figure size 360x360 with 2 Axes>"
      ]
     },
     "metadata": {
      "needs_background": "light"
     },
     "output_type": "display_data"
    }
   ],
   "source": [
    "# Compute confusion matrix\n",
    "cnf_matrix = confusion_matrix(y_test, y_predr)\n",
    "np.set_printoptions(precision=2)\n",
    "\n",
    "# Plot non-normalized confusion matrix\n",
    "plt.figure(figsize = (5, 5))\n",
    "plot_confusion_matrix(cnf_matrix, label1, normalize= False,  title='Confusion matrix')"
   ]
  },
  {
   "cell_type": "markdown",
   "metadata": {},
   "source": [
    "\n",
    "* conclusion is when class label is 0,1 all kernels linear, poly, rbf giving almost the same accuracy of 99 % but slightly diffrent value of parameter C 0.1 for linear nd 1 for rbf and ploy kernel.\n",
    "with first 10 features\n",
    "* when class label 9, 8 are choosen rbf kernel outperforms the linear kernel with accuracy 99 and 95.7 respectively!\n",
    "* ploynomial kernel with degree has accuracy 97.4\n",
    "* therefore, with binary classification with class lebel 8,9 rbf performs best of all kernels\n",
    "with 25 feature\n",
    "rbf acc = 100%\n",
    "linear acc= 96.6%\n",
    "poly with degree 3 acc = 98.3%\n",
    "* hence including more features accuracy has incresed a bit, "
   ]
  },
  {
   "cell_type": "markdown",
   "metadata": {},
   "source": [
    "# Multi-class Classification with 10 features only"
   ]
  },
  {
   "cell_type": "code",
   "execution_count": 94,
   "metadata": {},
   "outputs": [],
   "source": [
    "#splitting the dataset into train_set and test_set\n",
    "X_tr, X_te, y_tr, y_te = train_test_split( X,y, test_size=0.25)\n",
    "\n",
    "classes = ['0','1','2','3','4','5','6','7','8','9']"
   ]
  },
  {
   "cell_type": "markdown",
   "metadata": {},
   "source": [
    "# RBF model"
   ]
  },
  {
   "cell_type": "code",
   "execution_count": 105,
   "metadata": {},
   "outputs": [
    {
     "name": "stdout",
     "output_type": "stream",
     "text": [
      "0.8853333333333333\n"
     ]
    }
   ],
   "source": [
    "model1 = svm.SVC(kernel='rbf',C=21,decision_function_shape='ovo')\n",
    "model1.fit(X_tr,y_tr)\n",
    "y_pd =model1.predict(X_te)\n",
    "acc = model1.score(X_te,y_te)\n",
    "print(acc)"
   ]
  },
  {
   "cell_type": "code",
   "execution_count": 106,
   "metadata": {},
   "outputs": [
    {
     "name": "stdout",
     "output_type": "stream",
     "text": [
      "              precision    recall  f1-score   support\n",
      "\n",
      "           0       0.96      0.91      0.93        77\n",
      "           1       0.91      0.99      0.95        84\n",
      "           2       0.80      0.89      0.84        63\n",
      "           3       0.85      0.77      0.81        81\n",
      "           4       0.86      0.88      0.87        67\n",
      "           5       0.84      0.84      0.84        67\n",
      "           6       0.95      0.96      0.95        72\n",
      "           7       0.90      0.93      0.91        81\n",
      "           8       0.89      0.82      0.86        79\n",
      "           9       0.88      0.87      0.88        79\n",
      "\n",
      "    accuracy                           0.89       750\n",
      "   macro avg       0.88      0.88      0.88       750\n",
      "weighted avg       0.89      0.89      0.88       750\n",
      "\n"
     ]
    }
   ],
   "source": [
    "print(classification_report(y_te, y_pd))"
   ]
  },
  {
   "cell_type": "code",
   "execution_count": 107,
   "metadata": {},
   "outputs": [
    {
     "name": "stdout",
     "output_type": "stream",
     "text": [
      "Confusion matrix, without normalization\n",
      "[[70  0  1  1  0  4  1  0  0  0]\n",
      " [ 0 83  0  0  1  0  0  0  0  0]\n",
      " [ 0  1 56  1  1  0  1  1  2  0]\n",
      " [ 1  3  7 62  0  3  0  1  3  1]\n",
      " [ 0  3  0  0 59  0  0  0  1  4]\n",
      " [ 0  0  1  5  3 56  0  1  0  1]\n",
      " [ 1  0  1  0  0  1 69  0  0  0]\n",
      " [ 0  0  0  0  2  0  0 75  1  3]\n",
      " [ 0  1  4  4  1  2  2  0 65  0]\n",
      " [ 1  0  0  0  2  1  0  5  1 69]]\n"
     ]
    },
    {
     "data": {
      "image/png": "[encoded data removed]",
      "text/plain": [
       "<Figure size 720x720 with 2 Axes>"
      ]
     },
     "metadata": {
      "needs_background": "light"
     },
     "output_type": "display_data"
    }
   ],
   "source": [
    "# Compute confusion matrix\n",
    "cnf_matrix = confusion_matrix(y_te, y_pd)\n",
    "np.set_printoptions(precision=2)\n",
    "\n",
    "# Plot non-normalized confusion matrix\n",
    "plt.figure(figsize = (10, 10))\n",
    "plot_confusion_matrix(cnf_matrix, classes, normalize= False,  title='Confusion matrix')"
   ]
  },
  {
   "cell_type": "markdown",
   "metadata": {},
   "source": [
    "# Linear Model"
   ]
  },
  {
   "cell_type": "code",
   "execution_count": 119,
   "metadata": {},
   "outputs": [
    {
     "name": "stdout",
     "output_type": "stream",
     "text": [
      "0.8226666666666667\n"
     ]
    }
   ],
   "source": [
    "model2 = svm.SVC(kernel='linear',C=1,decision_function_shape='ovo')\n",
    "model2.fit(X_tr,y_tr)\n",
    "y_pd2 =model2.predict(X_te)\n",
    "acc2 = model2.score(X_te,y_te)\n",
    "#print(model2.coef_)\n",
    "#print(model2.intercept_)\n",
    "print(acc2)"
   ]
  },
  {
   "cell_type": "code",
   "execution_count": 120,
   "metadata": {},
   "outputs": [
    {
     "name": "stdout",
     "output_type": "stream",
     "text": [
      "              precision    recall  f1-score   support\n",
      "\n",
      "           0       0.93      0.92      0.93        77\n",
      "           1       0.90      0.95      0.92        84\n",
      "           2       0.74      0.86      0.79        63\n",
      "           3       0.86      0.73      0.79        81\n",
      "           4       0.76      0.76      0.76        67\n",
      "           5       0.66      0.75      0.70        67\n",
      "           6       0.93      0.88      0.90        72\n",
      "           7       0.86      0.89      0.87        81\n",
      "           8       0.86      0.70      0.77        79\n",
      "           9       0.74      0.78      0.76        79\n",
      "\n",
      "    accuracy                           0.82       750\n",
      "   macro avg       0.82      0.82      0.82       750\n",
      "weighted avg       0.83      0.82      0.82       750\n",
      "\n"
     ]
    }
   ],
   "source": [
    "print(classification_report(y_te, y_pd2))"
   ]
  },
  {
   "cell_type": "code",
   "execution_count": 121,
   "metadata": {},
   "outputs": [
    {
     "name": "stdout",
     "output_type": "stream",
     "text": [
      "Confusion matrix, without normalization\n",
      "[[71  0  0  0  0  5  0  0  0  1]\n",
      " [ 0 80  0  0  0  1  0  1  1  1]\n",
      " [ 0  0 54  2  2  0  3  0  2  0]\n",
      " [ 1  1  6 59  1  8  0  2  3  0]\n",
      " [ 0  4  0  0 51  1  1  0  0 10]\n",
      " [ 0  0  3  6  3 50  0  1  2  2]\n",
      " [ 2  0  5  0  0  1 63  0  1  0]\n",
      " [ 0  0  0  0  2  0  0 72  0  7]\n",
      " [ 1  3  5  2  1 10  1  0 55  1]\n",
      " [ 1  1  0  0  7  0  0  8  0 62]]\n"
     ]
    },
    {
     "data": {
      "image/png": "[encoded data removed]",
      "text/plain": [
       "<Figure size 720x720 with 2 Axes>"
      ]
     },
     "metadata": {
      "needs_background": "light"
     },
     "output_type": "display_data"
    }
   ],
   "source": [
    "# Compute confusion matrix\n",
    "cnf_matrix = confusion_matrix(y_te, y_pd2)\n",
    "np.set_printoptions(precision=2)\n",
    "\n",
    "# Plot non-normalized confusion matrix\n",
    "plt.figure(figsize = (10, 10))\n",
    "plot_confusion_matrix(cnf_matrix, classes, normalize= False,  title='Confusion matrix')"
   ]
  },
  {
   "cell_type": "markdown",
   "metadata": {},
   "source": [
    "# Polynomial Model"
   ]
  },
  {
   "cell_type": "code",
   "execution_count": 147,
   "metadata": {},
   "outputs": [
    {
     "name": "stdout",
     "output_type": "stream",
     "text": [
      "0.8746666666666667\n"
     ]
    }
   ],
   "source": [
    "model3 = svm.SVC(kernel='poly', degree=3,C=10,decision_function_shape='ovo')\n",
    "model3.fit(X_tr,y_tr)\n",
    "y_pd3 =model3.predict(X_te)\n",
    "acc3 = model3.score(X_te,y_te)\n",
    "print(acc3)"
   ]
  },
  {
   "cell_type": "code",
   "execution_count": 148,
   "metadata": {},
   "outputs": [
    {
     "name": "stdout",
     "output_type": "stream",
     "text": [
      "              precision    recall  f1-score   support\n",
      "\n",
      "           0       0.99      0.87      0.92        77\n",
      "           1       0.95      0.96      0.96        84\n",
      "           2       0.83      0.87      0.85        63\n",
      "           3       0.88      0.85      0.87        81\n",
      "           4       0.76      0.81      0.78        67\n",
      "           5       0.82      0.82      0.82        67\n",
      "           6       0.99      0.96      0.97        72\n",
      "           7       0.88      0.93      0.90        81\n",
      "           8       0.83      0.86      0.84        79\n",
      "           9       0.81      0.80      0.80        79\n",
      "\n",
      "    accuracy                           0.87       750\n",
      "   macro avg       0.87      0.87      0.87       750\n",
      "weighted avg       0.88      0.87      0.88       750\n",
      "\n"
     ]
    }
   ],
   "source": [
    "print(classification_report(y_te, y_pd3))"
   ]
  },
  {
   "cell_type": "code",
   "execution_count": 149,
   "metadata": {},
   "outputs": [
    {
     "name": "stdout",
     "output_type": "stream",
     "text": [
      "Confusion matrix, without normalization\n",
      "[[67  0  2  1  0  4  0  0  2  1]\n",
      " [ 0 81  1  0  1  0  0  0  0  1]\n",
      " [ 0  1 55  2  1  0  1  1  2  0]\n",
      " [ 0  1  3 69  0  2  0  2  3  1]\n",
      " [ 0  2  0  0 54  0  0  1  2  8]\n",
      " [ 0  0  2  4  3 55  0  1  1  1]\n",
      " [ 1  0  0  0  0  1 69  0  1  0]\n",
      " [ 0  0  0  0  1  0  0 75  2  3]\n",
      " [ 0  0  3  2  2  4  0  0 68  0]\n",
      " [ 0  0  0  0  9  1  0  5  1 63]]\n"
     ]
    },
    {
     "data": {
      "image/png": "[encoded data removed]",
      "text/plain": [
       "<Figure size 720x720 with 2 Axes>"
      ]
     },
     "metadata": {
      "needs_background": "light"
     },
     "output_type": "display_data"
    }
   ],
   "source": [
    "# Compute confusion matrix\n",
    "cnf_matrix = confusion_matrix(y_te, y_pd3)\n",
    "np.set_printoptions(precision=2)\n",
    "\n",
    "# Plot non-normalized confusion matrix\n",
    "plt.figure(figsize = (10, 10))\n",
    "plot_confusion_matrix(cnf_matrix, classes, normalize= False,  title='Confusion matrix')"
   ]
  },
  {
   "cell_type": "markdown",
   "metadata": {},
   "source": [
    "# # Multi-class Classification with all features"
   ]
  },
  {
   "cell_type": "code",
   "execution_count": 156,
   "metadata": {},
   "outputs": [],
   "source": [
    "#splitting the dataset into train_set and test_set\n",
    "X_trn, X_tes, y_trn, y_tes = train_test_split( X_prime,y, test_size=0.25)"
   ]
  },
  {
   "cell_type": "code",
   "execution_count": 165,
   "metadata": {},
   "outputs": [
    {
     "name": "stdout",
     "output_type": "stream",
     "text": [
      "0.892\n"
     ]
    }
   ],
   "source": [
    "model4 = svm.SVC(kernel='linear',C=1,decision_function_shape='ovo')\n",
    "model4.fit(X_trn,y_trn)\n",
    "y_pd4 =model4.predict(X_tes)\n",
    "acc4 = model4.score(X_tes,y_tes)\n",
    "print(acc4)"
   ]
  },
  {
   "cell_type": "code",
   "execution_count": 166,
   "metadata": {},
   "outputs": [
    {
     "name": "stdout",
     "output_type": "stream",
     "text": [
      "              precision    recall  f1-score   support\n",
      "\n",
      "           0       0.95      0.95      0.95        84\n",
      "           1       0.94      1.00      0.97        85\n",
      "           2       0.86      0.93      0.90        69\n",
      "           3       0.87      0.74      0.80        84\n",
      "           4       0.93      0.89      0.91        71\n",
      "           5       0.79      0.88      0.84        69\n",
      "           6       0.94      0.89      0.91        66\n",
      "           7       0.91      0.91      0.91        68\n",
      "           8       0.84      0.83      0.84        65\n",
      "           9       0.87      0.89      0.88        89\n",
      "\n",
      "    accuracy                           0.89       750\n",
      "   macro avg       0.89      0.89      0.89       750\n",
      "weighted avg       0.89      0.89      0.89       750\n",
      "\n"
     ]
    }
   ],
   "source": [
    "print(classification_report(y_tes, y_pd4))"
   ]
  },
  {
   "cell_type": "code",
   "execution_count": 167,
   "metadata": {},
   "outputs": [
    {
     "name": "stdout",
     "output_type": "stream",
     "text": [
      "Confusion matrix, without normalization\n",
      "[[80  0  0  0  0  2  2  0  0  0]\n",
      " [ 0 85  0  0  0  0  0  0  0  0]\n",
      " [ 2  0 64  1  0  0  1  0  1  0]\n",
      " [ 0  1  5 62  0  8  0  2  5  1]\n",
      " [ 0  1  0  1 63  0  0  1  1  4]\n",
      " [ 0  1  0  4  0 61  1  0  2  0]\n",
      " [ 1  1  2  0  0  0 59  2  1  0]\n",
      " [ 0  0  1  1  0  0  0 62  0  4]\n",
      " [ 1  1  0  2  0  4  0  0 54  3]\n",
      " [ 0  0  2  0  5  2  0  1  0 79]]\n"
     ]
    },
    {
     "data": {
      "image/png": "[encoded data removed]",
      "text/plain": [
       "<Figure size 720x720 with 2 Axes>"
      ]
     },
     "metadata": {
      "needs_background": "light"
     },
     "output_type": "display_data"
    }
   ],
   "source": [
    "# Compute confusion matrix\n",
    "cnf_matrix = confusion_matrix(y_tes, y_pd4)\n",
    "np.set_printoptions(precision=2)\n",
    "\n",
    "# Plot non-normalized confusion matrix\n",
    "plt.figure(figsize = (10, 10))\n",
    "plot_confusion_matrix(cnf_matrix, classes, normalize= False,  title='Confusion matrix')"
   ]
  },
  {
   "cell_type": "code",
   "execution_count": 190,
   "metadata": {},
   "outputs": [
    {
     "name": "stdout",
     "output_type": "stream",
     "text": [
      "0.904\n"
     ]
    }
   ],
   "source": [
    "model4 = svm.SVC(kernel='poly', degree=3,C=10,decision_function_shape='ovo')\n",
    "model4.fit(X_trn,y_trn)\n",
    "y_pd5 =model4.predict(X_tes)\n",
    "acc5 = model4.score(X_tes,y_tes)\n",
    "print(acc5)"
   ]
  },
  {
   "cell_type": "code",
   "execution_count": 187,
   "metadata": {},
   "outputs": [
    {
     "name": "stdout",
     "output_type": "stream",
     "text": [
      "              precision    recall  f1-score   support\n",
      "\n",
      "           0       0.96      0.94      0.95        84\n",
      "           1       0.99      1.00      0.99        85\n",
      "           2       0.90      0.88      0.89        69\n",
      "           3       0.89      0.76      0.82        84\n",
      "           4       0.90      0.93      0.92        71\n",
      "           5       0.85      0.88      0.87        69\n",
      "           6       0.95      0.89      0.92        66\n",
      "           7       0.95      0.88      0.92        68\n",
      "           8       0.74      0.92      0.82        65\n",
      "           9       0.91      0.93      0.92        89\n",
      "\n",
      "    accuracy                           0.90       750\n",
      "   macro avg       0.90      0.90      0.90       750\n",
      "weighted avg       0.91      0.90      0.90       750\n",
      "\n"
     ]
    }
   ],
   "source": [
    "print(classification_report(y_tes, y_pd5))"
   ]
  },
  {
   "cell_type": "code",
   "execution_count": 188,
   "metadata": {},
   "outputs": [
    {
     "name": "stdout",
     "output_type": "stream",
     "text": [
      "Confusion matrix, without normalization\n",
      "[[79  0  1  1  0  1  1  0  1  0]\n",
      " [ 0 85  0  0  0  0  0  0  0  0]\n",
      " [ 0  0 61  2  2  0  1  0  3  0]\n",
      " [ 0  1  2 64  0  7  0  1  8  1]\n",
      " [ 0  0  0  0 66  0  0  0  2  3]\n",
      " [ 0  0  0  4  1 61  1  0  2  0]\n",
      " [ 1  0  1  0  0  1 59  1  3  0]\n",
      " [ 1  0  2  0  0  0  0 60  1  4]\n",
      " [ 1  0  0  1  1  2  0  0 60  0]\n",
      " [ 0  0  1  0  3  0  0  1  1 83]]\n"
     ]
    },
    {
     "data": {
      "image/png": "[encoded data removed]",
      "text/plain": [
       "<Figure size 720x720 with 2 Axes>"
      ]
     },
     "metadata": {
      "needs_background": "light"
     },
     "output_type": "display_data"
    }
   ],
   "source": [
    "# Compute confusion matrix\n",
    "cnf_matrix = confusion_matrix(y_tes, y_pd5)\n",
    "np.set_printoptions(precision=2)\n",
    "\n",
    "# Plot non-normalized confusion matrix\n",
    "plt.figure(figsize = (10, 10))\n",
    "plot_confusion_matrix(cnf_matrix, classes, normalize= False,  title='Confusion matrix')"
   ]
  },
  {
   "cell_type": "markdown",
   "metadata": {},
   "source": [
    "# Part 2 kaggle"
   ]
  },
  {
   "cell_type": "markdown",
   "metadata": {},
   "source": [
    "Reading data from device, since this dataset has no header so also adding appropriate header to it "
   ]
  },
  {
   "cell_type": "code",
   "execution_count": 200,
   "metadata": {},
   "outputs": [
    {
     "name": "stdout",
     "output_type": "stream",
     "text": [
      "(10000, 26)\n",
      "(2000, 25)\n"
     ]
    },
    {
     "data": {
      "text/html": [
       "<div>\n",
       "<style scoped>\n",
       "    .dataframe tbody tr th:only-of-type {\n",
       "        vertical-align: middle;\n",
       "    }\n",
       "\n",
       "    .dataframe tbody tr th {\n",
       "        vertical-align: top;\n",
       "    }\n",
       "\n",
       "    .dataframe thead th {\n",
       "        text-align: right;\n",
       "    }\n",
       "</style>\n",
       "<table border=\"1\" class=\"dataframe\">\n",
       "  <thead>\n",
       "    <tr style=\"text-align: right;\">\n",
       "      <th></th>\n",
       "      <th>f1</th>\n",
       "      <th>f2</th>\n",
       "      <th>f3</th>\n",
       "      <th>f4</th>\n",
       "      <th>f5</th>\n",
       "      <th>f6</th>\n",
       "      <th>f7</th>\n",
       "      <th>f8</th>\n",
       "      <th>f9</th>\n",
       "      <th>f10</th>\n",
       "      <th>...</th>\n",
       "      <th>f16</th>\n",
       "      <th>f17</th>\n",
       "      <th>f18</th>\n",
       "      <th>f19</th>\n",
       "      <th>f20</th>\n",
       "      <th>f21</th>\n",
       "      <th>f22</th>\n",
       "      <th>f23</th>\n",
       "      <th>f24</th>\n",
       "      <th>f25</th>\n",
       "    </tr>\n",
       "  </thead>\n",
       "  <tbody>\n",
       "    <tr>\n",
       "      <th>0</th>\n",
       "      <td>-23.407833</td>\n",
       "      <td>-751.257086</td>\n",
       "      <td>-442.152199</td>\n",
       "      <td>-227.020992</td>\n",
       "      <td>-154.097040</td>\n",
       "      <td>477.550645</td>\n",
       "      <td>198.381759</td>\n",
       "      <td>479.115409</td>\n",
       "      <td>-357.900322</td>\n",
       "      <td>93.180387</td>\n",
       "      <td>...</td>\n",
       "      <td>-424.982977</td>\n",
       "      <td>46.172032</td>\n",
       "      <td>-60.825776</td>\n",
       "      <td>74.178890</td>\n",
       "      <td>-307.567008</td>\n",
       "      <td>-251.302419</td>\n",
       "      <td>-135.739227</td>\n",
       "      <td>406.823616</td>\n",
       "      <td>-405.460146</td>\n",
       "      <td>198.802193</td>\n",
       "    </tr>\n",
       "    <tr>\n",
       "      <th>1</th>\n",
       "      <td>-494.728030</td>\n",
       "      <td>-50.216611</td>\n",
       "      <td>212.863833</td>\n",
       "      <td>160.855858</td>\n",
       "      <td>-581.461605</td>\n",
       "      <td>201.151826</td>\n",
       "      <td>-160.791341</td>\n",
       "      <td>230.570701</td>\n",
       "      <td>-179.613151</td>\n",
       "      <td>120.731694</td>\n",
       "      <td>...</td>\n",
       "      <td>-170.936211</td>\n",
       "      <td>264.332229</td>\n",
       "      <td>-179.644258</td>\n",
       "      <td>-121.761126</td>\n",
       "      <td>16.319810</td>\n",
       "      <td>128.737568</td>\n",
       "      <td>146.093504</td>\n",
       "      <td>91.026759</td>\n",
       "      <td>-237.739206</td>\n",
       "      <td>251.308014</td>\n",
       "    </tr>\n",
       "    <tr>\n",
       "      <th>2</th>\n",
       "      <td>898.026435</td>\n",
       "      <td>285.525060</td>\n",
       "      <td>324.443874</td>\n",
       "      <td>800.979263</td>\n",
       "      <td>473.431125</td>\n",
       "      <td>-393.147012</td>\n",
       "      <td>594.203802</td>\n",
       "      <td>181.614763</td>\n",
       "      <td>74.083245</td>\n",
       "      <td>437.551027</td>\n",
       "      <td>...</td>\n",
       "      <td>197.566668</td>\n",
       "      <td>-146.730883</td>\n",
       "      <td>-635.895021</td>\n",
       "      <td>-268.978908</td>\n",
       "      <td>-49.912616</td>\n",
       "      <td>261.906107</td>\n",
       "      <td>71.341834</td>\n",
       "      <td>-205.964371</td>\n",
       "      <td>-32.351094</td>\n",
       "      <td>-87.289742</td>\n",
       "    </tr>\n",
       "    <tr>\n",
       "      <th>3</th>\n",
       "      <td>-695.618150</td>\n",
       "      <td>387.114508</td>\n",
       "      <td>87.353753</td>\n",
       "      <td>-234.217614</td>\n",
       "      <td>150.629633</td>\n",
       "      <td>-180.407359</td>\n",
       "      <td>690.895181</td>\n",
       "      <td>-71.627049</td>\n",
       "      <td>-247.262273</td>\n",
       "      <td>-189.345049</td>\n",
       "      <td>...</td>\n",
       "      <td>136.264277</td>\n",
       "      <td>-135.741079</td>\n",
       "      <td>-20.212250</td>\n",
       "      <td>99.379576</td>\n",
       "      <td>-46.323092</td>\n",
       "      <td>-75.837446</td>\n",
       "      <td>-242.465463</td>\n",
       "      <td>138.823356</td>\n",
       "      <td>176.927584</td>\n",
       "      <td>9.888518</td>\n",
       "    </tr>\n",
       "    <tr>\n",
       "      <th>4</th>\n",
       "      <td>523.882062</td>\n",
       "      <td>-360.969568</td>\n",
       "      <td>924.304558</td>\n",
       "      <td>286.928819</td>\n",
       "      <td>584.292687</td>\n",
       "      <td>712.977105</td>\n",
       "      <td>119.327713</td>\n",
       "      <td>408.310241</td>\n",
       "      <td>489.701075</td>\n",
       "      <td>-55.029920</td>\n",
       "      <td>...</td>\n",
       "      <td>340.977258</td>\n",
       "      <td>224.571445</td>\n",
       "      <td>20.837340</td>\n",
       "      <td>-70.415372</td>\n",
       "      <td>179.102318</td>\n",
       "      <td>-406.192582</td>\n",
       "      <td>154.682527</td>\n",
       "      <td>-62.449828</td>\n",
       "      <td>-98.353998</td>\n",
       "      <td>97.545001</td>\n",
       "    </tr>\n",
       "  </tbody>\n",
       "</table>\n",
       "<p>5 rows × 25 columns</p>\n",
       "</div>"
      ],
      "text/plain": [
       "           f1          f2          f3          f4          f5          f6  \\\n",
       "0  -23.407833 -751.257086 -442.152199 -227.020992 -154.097040  477.550645   \n",
       "1 -494.728030  -50.216611  212.863833  160.855858 -581.461605  201.151826   \n",
       "2  898.026435  285.525060  324.443874  800.979263  473.431125 -393.147012   \n",
       "3 -695.618150  387.114508   87.353753 -234.217614  150.629633 -180.407359   \n",
       "4  523.882062 -360.969568  924.304558  286.928819  584.292687  712.977105   \n",
       "\n",
       "           f7          f8          f9         f10  ...         f16  \\\n",
       "0  198.381759  479.115409 -357.900322   93.180387  ... -424.982977   \n",
       "1 -160.791341  230.570701 -179.613151  120.731694  ... -170.936211   \n",
       "2  594.203802  181.614763   74.083245  437.551027  ...  197.566668   \n",
       "3  690.895181  -71.627049 -247.262273 -189.345049  ...  136.264277   \n",
       "4  119.327713  408.310241  489.701075  -55.029920  ...  340.977258   \n",
       "\n",
       "          f17         f18         f19         f20         f21         f22  \\\n",
       "0   46.172032  -60.825776   74.178890 -307.567008 -251.302419 -135.739227   \n",
       "1  264.332229 -179.644258 -121.761126   16.319810  128.737568  146.093504   \n",
       "2 -146.730883 -635.895021 -268.978908  -49.912616  261.906107   71.341834   \n",
       "3 -135.741079  -20.212250   99.379576  -46.323092  -75.837446 -242.465463   \n",
       "4  224.571445   20.837340  -70.415372  179.102318 -406.192582  154.682527   \n",
       "\n",
       "          f23         f24         f25  \n",
       "0  406.823616 -405.460146  198.802193  \n",
       "1   91.026759 -237.739206  251.308014  \n",
       "2 -205.964371  -32.351094  -87.289742  \n",
       "3  138.823356  176.927584    9.888518  \n",
       "4  -62.449828  -98.353998   97.545001  \n",
       "\n",
       "[5 rows x 25 columns]"
      ]
     },
     "execution_count": 200,
     "metadata": {},
     "output_type": "execute_result"
    }
   ],
   "source": [
    "df = pd.read_csv(r'C:\\Users\\hp\\Downloads\\HAPT Data Set\\train_set.csv',names=['f1','f2','f3','f4','f5','f6','f7','f8','f9','f10','f11','f12','f13','f14','f15','f16','f17','f18','f19','f20','f21','f22','f23','f24','f25','label'])\n",
    "yhat = pd.read_csv(r'C:\\Users\\hp\\Downloads\\HAPT Data Set\\test_set.csv',names=['f1','f2','f3','f4','f5','f6','f7','f8','f9','f10','f11','f12','f13','f14','f15','f16','f17','f18','f19','f20','f21','f22','f23','f24','f25'])  \n",
    "print(df.shape)\n",
    "print(yhat.shape)\n",
    "yhat.head()"
   ]
  },
  {
   "cell_type": "code",
   "execution_count": 201,
   "metadata": {},
   "outputs": [],
   "source": [
    "f = df.iloc[:,0:25] # all feature\n",
    "t = df.iloc[:,25]  # labels\n",
    "f_tst = yhat.iloc[:,0:25] # truth values\n",
    "f = scaler.fit_transform(f) #  normalization\n",
    "f_tst = scaler.fit_transform(f_tst)\n",
    "f_train, f_test, t_train, t_test = train_test_split( f,t, test_size=0.25) # spliting into test and train set"
   ]
  },
  {
   "cell_type": "code",
   "execution_count": 202,
   "metadata": {},
   "outputs": [
    {
     "name": "stdout",
     "output_type": "stream",
     "text": [
      "0.9872\n"
     ]
    }
   ],
   "source": [
    "model1.fit(f_train,t_train)\n",
    "y_p =model4.predict(f_test)\n",
    "accuracy = model4.score(f_test,t_test)\n",
    "print(accuracy)"
   ]
  },
  {
   "cell_type": "code",
   "execution_count": 197,
   "metadata": {},
   "outputs": [
    {
     "name": "stdout",
     "output_type": "stream",
     "text": [
      "              precision    recall  f1-score   support\n",
      "\n",
      "           0       0.98      0.99      0.99       233\n",
      "           1       0.98      1.00      0.99       287\n",
      "           2       0.95      0.96      0.95       241\n",
      "           3       0.92      0.92      0.92       245\n",
      "           4       0.97      0.95      0.96       243\n",
      "           5       0.97      0.92      0.95       239\n",
      "           6       0.97      0.98      0.97       261\n",
      "           7       0.98      0.93      0.95       259\n",
      "           8       0.92      0.94      0.93       246\n",
      "           9       0.92      0.95      0.94       246\n",
      "\n",
      "    accuracy                           0.95      2500\n",
      "   macro avg       0.95      0.95      0.95      2500\n",
      "weighted avg       0.96      0.95      0.95      2500\n",
      "\n"
     ]
    }
   ],
   "source": [
    "print(classification_report(t_test, y_p))"
   ]
  },
  {
   "cell_type": "code",
   "execution_count": 195,
   "metadata": {},
   "outputs": [
    {
     "name": "stdout",
     "output_type": "stream",
     "text": [
      "Confusion matrix, without normalization\n",
      "[[231   0   0   0   0   0   1   0   1   0]\n",
      " [  0 286   1   0   0   0   0   0   0   0]\n",
      " [  3   1 232   0   0   0   0   1   4   0]\n",
      " [  0   0   2 226   0   6   0   2   5   4]\n",
      " [  0   1   1   0 230   0   1   0   1   9]\n",
      " [  0   0   0   8   1 221   4   0   4   1]\n",
      " [  2   0   0   0   1   0 255   0   3   0]\n",
      " [  0   2   6   3   2   0   0 240   2   4]\n",
      " [  0   1   2   6   0   1   2   0 232   2]\n",
      " [  0   0   1   3   4   0   0   3   1 234]]\n"
     ]
    },
    {
     "data": {
      "image/png": "[encoded data removed]",
      "text/plain": [
       "<Figure size 720x720 with 2 Axes>"
      ]
     },
     "metadata": {
      "needs_background": "light"
     },
     "output_type": "display_data"
    }
   ],
   "source": [
    "# Compute confusion matrix\n",
    "cnf_matrix = confusion_matrix(t_test, y_p)\n",
    "np.set_printoptions(precision=2)\n",
    "\n",
    "# Plot non-normalized confusion matrix\n",
    "plt.figure(figsize = (10, 10))\n",
    "plot_confusion_matrix(cnf_matrix, classes, normalize= False,  title='Confusion matrix')"
   ]
  },
  {
   "cell_type": "code",
   "execution_count": 206,
   "metadata": {},
   "outputs": [],
   "source": [
    "ypred=model4.predict(f_tst)\n",
    "dataframe = pd.DataFrame(ypred)\n",
    "dataframe\n",
    "dataframe.to_csv (r'C:\\Users\\hp\\Downloads\\HAPT Data Set\\myfile.csv', index = True, header=True) # saving the predicted values\n",
    "\n",
    "#print (df)"
   ]
  },
  {
   "cell_type": "code",
   "execution_count": null,
   "metadata": {},
   "outputs": [],
   "source": []
  }
 ],
 "metadata": {
  "kernelspec": {
   "display_name": "Python 3",
   "language": "python",
   "name": "python3"
  },
  "language_info": {
   "codemirror_mode": {
    "name": "ipython",
    "version": 3
   },
   "file_extension": ".py",
   "mimetype": "text/x-python",
   "name": "python",
   "nbconvert_exporter": "python",
   "pygments_lexer": "ipython3",
   "version": "3.6.5"
  }
 },
 "nbformat": 4,
 "nbformat_minor": 4
}
